{
 "cells": [
  {
   "cell_type": "code",
   "execution_count": 20,
   "metadata": {},
   "outputs": [],
   "source": [
    "import robin_stocks as r\n",
    "import pandas as pd\n",
    "import numpy as np\n",
    "from pandas.plotting import register_matplotlib_converters\n",
    "from ta import *\n",
    "from misc import *\n",
    "from tradingstats import *"
   ]
  },
  {
   "cell_type": "code",
   "execution_count": 21,
   "metadata": {},
   "outputs": [
    {
     "name": "stdout",
     "output_type": "stream",
     "text": [
      "Please Type In The MFA Code: 329815\n"
     ]
    }
   ],
   "source": [
    "#Log in to Robinhood\n",
    "EMAIL = '******'\n",
    "PASSWORD = '******'\n",
    "login = r.login(EMAIL,PASSWORD)"
   ]
  },
  {
   "cell_type": "code",
   "execution_count": 22,
   "metadata": {},
   "outputs": [],
   "source": [
    "def get_watchlist_symbols():\n",
    "    \"\"\"\n",
    "    Returns: the symbol for each stock in your watchlist as a list of strings\n",
    "    \"\"\"\n",
    "    my_list_names = []\n",
    "    symbols = []\n",
    "    for name in r.get_all_watchlists(info='name'):\n",
    "        my_list_names.append(name)\n",
    "    for name in my_list_names:\n",
    "        list = r.get_watchlist_by_name(name)\n",
    "        for item in list:\n",
    "            instrument_data = r.get_instrument_by_url(item.get('instrument'))\n",
    "            symbol = instrument_data['symbol']\n",
    "            symbols.append(symbol)\n",
    "    return symbols"
   ]
  },
  {
   "cell_type": "code",
   "execution_count": 23,
   "metadata": {},
   "outputs": [],
   "source": [
    "def get_portfolio_symbols():\n",
    "    \"\"\"\n",
    "    Returns: the symbol for each stock in your portfolio as a list of strings\n",
    "    \"\"\"\n",
    "    symbols = []\n",
    "    holdings_data = r.get_current_positions()\n",
    "    for item in holdings_data:\n",
    "        if not item:\n",
    "            continue\n",
    "        instrument_data = r.get_instrument_by_url(item.get('instrument'))\n",
    "        symbol = instrument_data['symbol']\n",
    "        symbols.append(symbol)\n",
    "    return symbols"
   ]
  },
  {
   "cell_type": "code",
   "execution_count": 24,
   "metadata": {},
   "outputs": [],
   "source": [
    "def get_position_creation_date(symbol, holdings_data):\n",
    "    \"\"\"Returns the time at which we bought a certain stock in our portfolio\n",
    "\n",
    "    Args:\n",
    "        symbol(str): Symbol of the stock that we are trying to figure out when it was bought\n",
    "        holdings_data(dict): dict returned by r.get_current_positions()\n",
    "\n",
    "    Returns:\n",
    "        A string containing the date and time the stock was bought, or \"Not found\" otherwise\n",
    "    \"\"\"\n",
    "    instrument = r.get_instruments_by_symbols(symbol)\n",
    "    url = instrument[0].get('url')\n",
    "    for dict in holdings_data:\n",
    "        if(dict.get('instrument') == url):\n",
    "            return dict.get('created_at')\n",
    "    return \"Not found\"\n"
   ]
  },
  {
   "cell_type": "code",
   "execution_count": 25,
   "metadata": {},
   "outputs": [],
   "source": [
    "def get_modified_holdings():\n",
    "    \"\"\" Retrieves the same dictionary as r.build_holdings, but includes data about\n",
    "        when the stock was purchased, which is useful for the read_trade_history() method\n",
    "        in tradingstats.py\n",
    "\n",
    "    Returns:\n",
    "        the same dict from r.build_holdings, but with an extra key-value pair for each\n",
    "        position you have, which is 'bought_at': (the time the stock was purchased)\n",
    "    \"\"\"\n",
    "    holdings = r.build_holdings()\n",
    "    holdings_data = r.get_current_positions()\n",
    "    for symbol, dict in holdings.items():\n",
    "        bought_at = get_position_creation_date(symbol, holdings_data)\n",
    "        bought_at = str(pd.to_datetime(bought_at))\n",
    "        holdings[symbol].update({'bought_at': bought_at})\n",
    "    return holdings"
   ]
  },
  {
   "cell_type": "code",
   "execution_count": 26,
   "metadata": {},
   "outputs": [],
   "source": [
    "\n",
    "def get_last_crossing(df, days, symbol=\"\", direction=\"\"):\n",
    "    \"\"\"Searches for a crossing between two indicators for a given stock\n",
    "\n",
    "    Args:\n",
    "        df(pandas.core.frame.DataFrame): Pandas dataframe with columns containing the stock's prices, both indicators, and the dates\n",
    "        days(int): Specifies the maximum number of days that the cross can occur by\n",
    "        symbol(str): Symbol of the stock we're querying. Optional, used for printing purposes\n",
    "        direction(str): \"above\" if we are searching for an upwards cross, \"below\" if we are searching for a downwaords cross. Optional, used for printing purposes\n",
    "\n",
    "    Returns:\n",
    "        1 if the short-term indicator crosses above the long-term one\n",
    "        0 if there is no cross between the indicators\n",
    "        -1 if the short-term indicator crosses below the long-term one\n",
    "    \"\"\"\n",
    "    prices = df.loc[:,\"Price\"]\n",
    "    shortTerm = df.loc[:,\"Indicator1\"]\n",
    "    LongTerm = df.loc[:,\"Indicator2\"]\n",
    "    dates = df.loc[:,\"Dates\"]\n",
    "    lastIndex = prices.size - 1\n",
    "    index = lastIndex\n",
    "    found = index\n",
    "    recentDiff = (shortTerm.at[index] - LongTerm.at[index]) >= 0\n",
    "    if((direction == \"above\" and not recentDiff) or (direction == \"below\" and recentDiff)):\n",
    "        return 0\n",
    "    index -= 1\n",
    "    while(index >= 0 and found == lastIndex and not np.isnan(shortTerm.at[index]) and not np.isnan(LongTerm.at[index]) \\\n",
    "                        and ((pd.Timestamp(\"now\", tz='UTC') - dates.at[index]) <= pd.Timedelta(str(days) + \" days\"))):\n",
    "        if(recentDiff):\n",
    "            if((shortTerm.at[index] - LongTerm.at[index]) < 0):\n",
    "                found = index\n",
    "        else:\n",
    "            if((shortTerm.at[index] - LongTerm.at[index]) > 0):\n",
    "                found = index\n",
    "        index -= 1\n",
    "    if(found != lastIndex):\n",
    "        if((direction == \"above\" and recentDiff) or (direction == \"below\" and not recentDiff)):\n",
    "            print(symbol + \": Short SMA crossed\" + (\" ABOVE \" if recentDiff else \" BELOW \") + \"Long SMA at \" + str(dates.at[found]) \\\n",
    "                +\", which was \" + str(pd.Timestamp(\"now\", tz='UTC') - dates.at[found]) + \" ago\", \", price at cross: \" + str(prices.at[found]) \\\n",
    "                + \", current price: \" + str(prices.at[lastIndex]))\n",
    "        return (1 if recentDiff else -1)\n",
    "    else:\n",
    "        return 0"
   ]
  },
  {
   "cell_type": "code",
   "execution_count": 27,
   "metadata": {},
   "outputs": [],
   "source": [
    "def five_year_check(stockTicker):\n",
    "    \"\"\"Figure out if a stock has risen or been created within the last five years.\n",
    "\n",
    "    Args:\n",
    "        stockTicker(str): Symbol of the stock we're querying\n",
    "\n",
    "    Returns:\n",
    "        True if the stock's current price is higher than it was five years ago, or the stock IPO'd within the last five years\n",
    "        False otherwise\n",
    "    \"\"\"\n",
    "    instrument = r.get_instruments_by_symbols(stockTicker)\n",
    "    list_date = instrument[0].get(\"list_date\")\n",
    "    if ((pd.Timestamp(\"now\") - pd.to_datetime(list_date)) < pd.Timedelta(\"5 Y\")):\n",
    "        return True\n",
    "    fiveyear = r.get_historicals(stockTicker,span='5year',bounds='regular')\n",
    "    closingPrices = []\n",
    "    for item in fiveyear:\n",
    "        closingPrices.append(float(item['close_price']))\n",
    "    recent_price = closingPrices[len(closingPrices) - 1]\n",
    "    oldest_price = closingPrices[0]\n",
    "    return (recent_price > oldest_price)\n"
   ]
  },
  {
   "cell_type": "code",
   "execution_count": 28,
   "metadata": {},
   "outputs": [],
   "source": [
    "def golden_cross(stockTicker, n1, n2, days, direction=\"\"):\n",
    "    \"\"\"Determine if a golden/death cross has occured for a specified stock in the last X trading days\n",
    "\n",
    "    Args:\n",
    "        stockTicker(str): Symbol of the stock we're querying\n",
    "        n1(int): Specifies the short-term indicator as an X-day moving average.\n",
    "        n2(int): Specifies the long-term indicator as an X-day moving average.\n",
    "                 (n1 should be smaller than n2 to produce meaningful results, e.g n1=50, n2=200)\n",
    "        days(int): Specifies the maximum number of days that the cross can occur by\n",
    "        direction(str): \"above\" if we are searching for an upwards cross, \"below\" if we are searching for a downwaords cross. Optional, used for printing purposes\n",
    "\n",
    "    Returns:\n",
    "        1 if the short-term indicator crosses above the long-term one\n",
    "        0 if there is no cross between the indicators\n",
    "        -1 if the short-term indicator crosses below the long-term one\n",
    "        False if direction == \"above\" and five_year_check(stockTicker) returns False, meaning that we're considering whether to\n",
    "            buy the stock but it hasn't risen overall in the last five years, suggesting it contains fundamental issues\n",
    "    \"\"\"\n",
    "    if(direction == \"above\" and not five_year_check(stockTicker)):\n",
    "        return False\n",
    "    history = r.get_historicals(stockTicker,span='year',bounds='regular')\n",
    "    closingPrices = []\n",
    "    dates = []\n",
    "    for item in history:\n",
    "        closingPrices.append(float(item['close_price']))\n",
    "        dates.append(item['begins_at'])\n",
    "    price = pd.Series(closingPrices)\n",
    "    dates = pd.Series(dates)\n",
    "    dates = pd.to_datetime(dates)\n",
    "    sma1 = bollinger_mavg(price, n=int(n1), fillna=False)\n",
    "    sma2 = bollinger_mavg(price, n=int(n2), fillna=False)\n",
    "    series = [price.rename(\"Price\"), sma1.rename(\"Indicator1\"), sma2.rename(\"Indicator2\"), dates.rename(\"Dates\")]\n",
    "    df = pd.concat(series, axis=1)\n",
    "    cross = get_last_crossing(df, days, symbol=stockTicker, direction=direction)\n",
    "    # if(cross):\n",
    "    #     show_plot(price, sma1, sma2, dates, symbol=stockTicker, label1=str(n1)+\" day SMA\", label2=str(n2)+\" day SMA\")\n",
    "    return cross"
   ]
  },
  {
   "cell_type": "code",
   "execution_count": 29,
   "metadata": {},
   "outputs": [],
   "source": [
    "def sell_holdings(symbol, holdings_data):\n",
    "    \"\"\" Place an order to sell all holdings of a stock.\n",
    "\n",
    "    Args:\n",
    "        symbol(str): Symbol of the stock we want to sell\n",
    "        holdings_data(dict): dict obtained from get_modified_holdings() method\n",
    "    \"\"\"\n",
    "    shares_owned = int(float(holdings_data[symbol].get(\"quantity\")))\n",
    "    r.order_sell_market(symbol, shares_owned)\n",
    "    print(\"####### Selling \" + str(shares_owned) + \" shares of \" + symbol + \" #######\")"
   ]
  },
  {
   "cell_type": "code",
   "execution_count": 30,
   "metadata": {},
   "outputs": [],
   "source": [
    "def buy_holdings(potential_buys, profile_data, holdings_data):\n",
    "    \"\"\" Places orders to buy holdings of stocks. This method will try to order\n",
    "        an appropriate amount of shares such that your holdings of the stock will\n",
    "        roughly match the average for the rest of your portfoilio. If the share\n",
    "        price is too high considering the rest of your holdings and the amount of\n",
    "        buying power in your account, it will not order any shares.\n",
    "\n",
    "    Args:\n",
    "        potential_buys(list): List of strings, the strings are the symbols of stocks we want to buy\n",
    "        symbol(str): Symbol of the stock we want to sell\n",
    "        holdings_data(dict): dict obtained from r.build_holdings() or get_modified_holdings() method\n",
    "    \"\"\"\n",
    "    cash = float(profile_data.get('cash'))\n",
    "    portfolio_value = float(profile_data.get('equity')) - cash\n",
    "    ideal_position_size = (portfolio_value/len(holdings_data)+cash/len(potential_buys))/(2 * len(potential_buys))\n",
    "    prices = r.get_latest_price(potential_buys)\n",
    "    for i in range(0, len(potential_buys)):\n",
    "        stock_price = float(prices[i])\n",
    "        if(ideal_position_size < stock_price < ideal_position_size*1.5):\n",
    "            num_shares = int(ideal_position_size*1.5/stock_price)\n",
    "        elif (stock_price < ideal_position_size):\n",
    "            num_shares = int(ideal_position_size/stock_price)\n",
    "        else:\n",
    "            print(\"####### Tried buying shares of \" + potential_buys[i] + \", but not enough buying power to do so#######\")\n",
    "            break\n",
    "        print(\"####### Buying \" + str(num_shares) + \" shares of \" + potential_buys[i] + \" #######\")\n",
    "        r.order_buy_market(potential_buys[i], num_shares)"
   ]
  },
  {
   "cell_type": "code",
   "execution_count": 31,
   "metadata": {},
   "outputs": [
    {
     "name": "stdout",
     "output_type": "stream",
     "text": [
      "----- Starting scan... -----\n",
      "\n"
     ]
    }
   ],
   "source": [
    "print(\"----- Starting scan... -----\\n\")\n",
    "register_matplotlib_converters()\n",
    "watchlist_symbols = get_watchlist_symbols()\n",
    "portfolio_symbols = get_portfolio_symbols()"
   ]
  },
  {
   "cell_type": "code",
   "execution_count": 32,
   "metadata": {},
   "outputs": [
    {
     "name": "stdout",
     "output_type": "stream",
     "text": [
      "Current Portfolio: ['BILI']\n",
      "\n",
      "Current Watchlist: ['AAPL', 'TWTR', 'TSLA', 'NFLX', 'FB', 'MSFT', 'DIS', 'SBUX', 'BABA', 'GE', 'JD', 'PDD', 'AMD', 'IQ', 'SPY']\n",
      "\n",
      "----- Scanning portfolio for stocks to sell -----\n",
      "\n"
     ]
    }
   ],
   "source": [
    "holdings_data = get_modified_holdings()\n",
    "potential_buys = []\n",
    "sells = []\n",
    "print(\"Current Portfolio: \" + str(portfolio_symbols) + \"\\n\")\n",
    "print(\"Current Watchlist: \" + str(watchlist_symbols) + \"\\n\")\n",
    "print(\"----- Scanning portfolio for stocks to sell -----\\n\")"
   ]
  },
  {
   "cell_type": "code",
   "execution_count": 33,
   "metadata": {},
   "outputs": [
    {
     "name": "stdout",
     "output_type": "stream",
     "text": [
      "BILI: Short SMA crossed BELOW Long SMA at 2019-07-01 00:00:00+00:00, which was 24 days 20:34:18.080152 ago , price at cross: 16.48, current price: 15.8\n",
      "BILI\n"
     ]
    }
   ],
   "source": [
    "for symbol in portfolio_symbols:\n",
    "    cross = golden_cross(symbol, n1=50, n2=200, days=30, direction=\"below\")\n",
    "    if(cross == -1):\n",
    "        print(symbol)"
   ]
  },
  {
   "cell_type": "code",
   "execution_count": 42,
   "metadata": {},
   "outputs": [
    {
     "name": "stdout",
     "output_type": "stream",
     "text": [
      "AAPL: Short SMA crossed ABOVE Long SMA at 2019-05-06 00:00:00+00:00, which was 80 days 20:50:02.023320 ago , price at cross: 208.48, current price: 208.67\n"
     ]
    }
   ],
   "source": [
    "for symbol in watchlist_symbols:\n",
    "    cross = golden_cross(symbol, n1=50, n2=200, days=100, direction=\"above\")\n",
    "    if(cross == -1):\n",
    "        print(symbol)\n",
    "        "
   ]
  },
  {
   "cell_type": "code",
   "execution_count": 34,
   "metadata": {},
   "outputs": [
    {
     "name": "stdout",
     "output_type": "stream",
     "text": [
      "\n",
      "----- Scanning watchlist for stocks to buy -----\n",
      "\n"
     ]
    }
   ],
   "source": [
    "profile_data = r.build_user_profile()\n",
    "print(\"\\n----- Scanning watchlist for stocks to buy -----\\n\")\n",
    "for symbol in watchlist_symbols:\n",
    "    if(symbol not in portfolio_symbols):\n",
    "        cross = golden_cross(symbol, n1=50, n2=200, days=10, direction=\"above\")\n",
    "        if(cross == 1):\n",
    "            potential_buys.append(symbol)"
   ]
  },
  {
   "cell_type": "code",
   "execution_count": null,
   "metadata": {},
   "outputs": [],
   "source": []
  }
 ],
 "metadata": {
  "kernelspec": {
   "display_name": "Python 3",
   "language": "python",
   "name": "python3"
  },
  "language_info": {
   "codemirror_mode": {
    "name": "ipython",
    "version": 3
   },
   "file_extension": ".py",
   "mimetype": "text/x-python",
   "name": "python",
   "nbconvert_exporter": "python",
   "pygments_lexer": "ipython3",
   "version": "3.6.8"
  }
 },
 "nbformat": 4,
 "nbformat_minor": 2
}
